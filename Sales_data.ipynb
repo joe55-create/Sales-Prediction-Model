{
 "cells": [
  {
   "cell_type": "code",
   "execution_count": 71,
   "id": "be8b4029",
   "metadata": {},
   "outputs": [],
   "source": [
    "# Importing libraries \n",
    "import pandas as pd \n",
    "import matplotlib.pyplot as plt \n",
    "import seaborn as sns \n",
    "from sklearn.linear_model import Ridge\n",
    "from sklearn.model_selection import GridSearchCV, train_test_split\n",
    "from sklearn.metrics import mean_squared_error, r2_score\n",
    "from sklearn.linear_model import LinearRegression\n",
    "from sklearn.metrics import mean_absolute_error, mean_squared_error, r2_score\n"
   ]
  },
  {
   "cell_type": "code",
   "execution_count": 72,
   "id": "ef0925fc",
   "metadata": {
    "scrolled": true
   },
   "outputs": [
    {
     "data": {
      "text/html": [
       "<div>\n",
       "<style scoped>\n",
       "    .dataframe tbody tr th:only-of-type {\n",
       "        vertical-align: middle;\n",
       "    }\n",
       "\n",
       "    .dataframe tbody tr th {\n",
       "        vertical-align: top;\n",
       "    }\n",
       "\n",
       "    .dataframe thead th {\n",
       "        text-align: right;\n",
       "    }\n",
       "</style>\n",
       "<table border=\"1\" class=\"dataframe\">\n",
       "  <thead>\n",
       "    <tr style=\"text-align: right;\">\n",
       "      <th></th>\n",
       "      <th>Date</th>\n",
       "      <th>Store</th>\n",
       "      <th>Product</th>\n",
       "      <th>Quantity Sold</th>\n",
       "      <th>Price per Unit</th>\n",
       "      <th>Total Sales</th>\n",
       "      <th>Region</th>\n",
       "      <th>Discount</th>\n",
       "      <th>Customer Type</th>\n",
       "    </tr>\n",
       "  </thead>\n",
       "  <tbody>\n",
       "    <tr>\n",
       "      <th>0</th>\n",
       "      <td>3/1/2025</td>\n",
       "      <td>Store 1</td>\n",
       "      <td>Product A</td>\n",
       "      <td>10</td>\n",
       "      <td>20</td>\n",
       "      <td>200</td>\n",
       "      <td>North</td>\n",
       "      <td>5%</td>\n",
       "      <td>Regular</td>\n",
       "    </tr>\n",
       "    <tr>\n",
       "      <th>1</th>\n",
       "      <td>3/1/2025</td>\n",
       "      <td>Store 1</td>\n",
       "      <td>Product B</td>\n",
       "      <td>15</td>\n",
       "      <td>15</td>\n",
       "      <td>225</td>\n",
       "      <td>North</td>\n",
       "      <td>10%</td>\n",
       "      <td>Regular</td>\n",
       "    </tr>\n",
       "    <tr>\n",
       "      <th>2</th>\n",
       "      <td>3/1/2025</td>\n",
       "      <td>Store 2</td>\n",
       "      <td>Product A</td>\n",
       "      <td>20</td>\n",
       "      <td>20</td>\n",
       "      <td>400</td>\n",
       "      <td>South</td>\n",
       "      <td>5%</td>\n",
       "      <td>New</td>\n",
       "    </tr>\n",
       "    <tr>\n",
       "      <th>3</th>\n",
       "      <td>3/1/2025</td>\n",
       "      <td>Store 2</td>\n",
       "      <td>Product C</td>\n",
       "      <td>30</td>\n",
       "      <td>25</td>\n",
       "      <td>750</td>\n",
       "      <td>South</td>\n",
       "      <td>0%</td>\n",
       "      <td>New</td>\n",
       "    </tr>\n",
       "    <tr>\n",
       "      <th>4</th>\n",
       "      <td>3/2/2025</td>\n",
       "      <td>Store 3</td>\n",
       "      <td>Product B</td>\n",
       "      <td>25</td>\n",
       "      <td>15</td>\n",
       "      <td>375</td>\n",
       "      <td>East</td>\n",
       "      <td>0%</td>\n",
       "      <td>Regular</td>\n",
       "    </tr>\n",
       "  </tbody>\n",
       "</table>\n",
       "</div>"
      ],
      "text/plain": [
       "       Date    Store    Product  Quantity Sold  Price per Unit  Total Sales  \\\n",
       "0  3/1/2025  Store 1  Product A             10              20          200   \n",
       "1  3/1/2025  Store 1  Product B             15              15          225   \n",
       "2  3/1/2025  Store 2  Product A             20              20          400   \n",
       "3  3/1/2025  Store 2  Product C             30              25          750   \n",
       "4  3/2/2025  Store 3  Product B             25              15          375   \n",
       "\n",
       "  Region Discount Customer Type  \n",
       "0  North       5%       Regular  \n",
       "1  North      10%       Regular  \n",
       "2  South       5%           New  \n",
       "3  South       0%           New  \n",
       "4   East       0%       Regular  "
      ]
     },
     "execution_count": 72,
     "metadata": {},
     "output_type": "execute_result"
    }
   ],
   "source": [
    "\n",
    "# Correct path to the CSV file\n",
    "Sales_data = pd.read_csv(\"C:/Users/joe/OneDrive/Desktop/Data_for_practice/sales_data.csv\")\n",
    "\n",
    "# Display the first few rows of the dataframe\n",
    "Sales_data.head()\n"
   ]
  },
  {
   "cell_type": "code",
   "execution_count": 73,
   "id": "d87d4ee2",
   "metadata": {},
   "outputs": [
    {
     "name": "stdout",
     "output_type": "stream",
     "text": [
      "<class 'pandas.core.frame.DataFrame'>\n",
      "RangeIndex: 16 entries, 0 to 15\n",
      "Data columns (total 9 columns):\n",
      " #   Column          Non-Null Count  Dtype \n",
      "---  ------          --------------  ----- \n",
      " 0   Date            16 non-null     object\n",
      " 1   Store           16 non-null     object\n",
      " 2   Product         16 non-null     object\n",
      " 3   Quantity Sold   16 non-null     int64 \n",
      " 4   Price per Unit  16 non-null     int64 \n",
      " 5   Total Sales     16 non-null     int64 \n",
      " 6   Region          16 non-null     object\n",
      " 7   Discount        16 non-null     object\n",
      " 8   Customer Type   16 non-null     object\n",
      "dtypes: int64(3), object(6)\n",
      "memory usage: 1.2+ KB\n"
     ]
    },
    {
     "data": {
      "text/plain": [
       "(16, 9)"
      ]
     },
     "execution_count": 73,
     "metadata": {},
     "output_type": "execute_result"
    }
   ],
   "source": [
    "## checing the data information and the shape of the data \n",
    "Sales_data.info()\n",
    "Sales_data.shape "
   ]
  },
  {
   "cell_type": "code",
   "execution_count": 74,
   "id": "a4cfc1ce",
   "metadata": {},
   "outputs": [
    {
     "data": {
      "text/plain": [
       "Date              0\n",
       "Store             0\n",
       "Product           0\n",
       "Quantity Sold     0\n",
       "Price per Unit    0\n",
       "Total Sales       0\n",
       "Region            0\n",
       "Discount          0\n",
       "Customer Type     0\n",
       "dtype: int64"
      ]
     },
     "execution_count": 74,
     "metadata": {},
     "output_type": "execute_result"
    }
   ],
   "source": [
    "## Checking for the null values \n",
    "Sales_data.isnull().sum()"
   ]
  },
  {
   "cell_type": "code",
   "execution_count": 75,
   "id": "cc972ff5",
   "metadata": {},
   "outputs": [
    {
     "name": "stdout",
     "output_type": "stream",
     "text": [
      "                Quantity Sold  Price per Unit  Total Sales\n",
      "Quantity Sold        1.000000        0.061542     0.913152\n",
      "Price per Unit       0.061542        1.000000     0.437843\n",
      "Total Sales          0.913152        0.437843     1.000000\n"
     ]
    }
   ],
   "source": [
    "## calculatr the collinearity of the data \n",
    "numeric_data = Sales_data.select_dtypes(include=['float64', 'int64'])\n",
    "##calculating the correlation matrix for the numeric columns only\n",
    "correlation_matrix = numeric_data.corr()\n",
    "# Display the correlation matrix\n",
    "print(correlation_matrix)"
   ]
  },
  {
   "cell_type": "code",
   "execution_count": 76,
   "id": "10e89336",
   "metadata": {},
   "outputs": [
    {
     "data": {
      "image/png": "[encoded data removed]",
      "text/plain": [
       "<Figure size 288x288 with 2 Axes>"
      ]
     },
     "metadata": {
      "needs_background": "light"
     },
     "output_type": "display_data"
    }
   ],
   "source": [
    "##Visualisation of the correlation Matrix \n",
    "\n",
    "plt.figure(figsize=(4, 4))\n",
    "sns.heatmap(correlation_matrix, annot=True, cmap='coolwarm', fmt='.2f', linewidths=0.5)\n",
    "plt.title('Correlation Matrix')\n",
    "plt.show()"
   ]
  },
  {
   "cell_type": "code",
   "execution_count": 77,
   "id": "c7d743d1",
   "metadata": {},
   "outputs": [
    {
     "data": {
      "image/png": "[encoded data removed]",
      "text/plain": [
       "<Figure size 864x432 with 1 Axes>"
      ]
     },
     "metadata": {
      "needs_background": "light"
     },
     "output_type": "display_data"
    }
   ],
   "source": [
    "\n",
    "# Convert 'Date' column to datetime format if it's not already\n",
    "Sales_data['Date'] = pd.to_datetime(Sales_data['Date'])\n",
    "\n",
    "# Group by date and sum the sales\n",
    "daily_sales = Sales_data.groupby('Date')['Total Sales'].sum()\n",
    "\n",
    "# Plot time-series line chart\n",
    "plt.figure(figsize=(12, 6))\n",
    "plt.plot(daily_sales.index, daily_sales.values, marker='o', linestyle='-')\n",
    "plt.title('Daily Sales Over Time')\n",
    "plt.xlabel('Date')\n",
    "plt.ylabel('Total Sales')\n",
    "plt.xticks(rotation=45)\n",
    "plt.grid()\n",
    "plt.show()\n"
   ]
  },
  {
   "cell_type": "code",
   "execution_count": 78,
   "id": "3de95ad0",
   "metadata": {},
   "outputs": [
    {
     "name": "stderr",
     "output_type": "stream",
     "text": [
      "C:\\Users\\joe\\AppData\\Local\\Temp/ipykernel_36160/3656440237.py:6: FutureWarning: \n",
      "\n",
      "Passing `palette` without assigning `hue` is deprecated and will be removed in v0.14.0. Assign the `x` variable to `hue` and set `legend=False` for the same effect.\n",
      "\n",
      "  sns.barplot(x='Region', y='Total Sales', data=region_sales, palette='Set2')\n"
     ]
    },
    {
     "data": {
      "image/png": "[encoded data removed]",
      "text/plain": [
       "<Figure size 720x432 with 1 Axes>"
      ]
     },
     "metadata": {
      "needs_background": "light"
     },
     "output_type": "display_data"
    }
   ],
   "source": [
    "# Aggregate sales per region\n",
    "region_sales = Sales_data.groupby('Region')['Total Sales'].sum().reset_index()\n",
    "\n",
    "# Bar chart without hue (if no specific color coding is needed)\n",
    "plt.figure(figsize=(10, 6))\n",
    "sns.barplot(x='Region', y='Total Sales', data=region_sales, palette='Set2')\n",
    "plt.title('Total Sales by Region')\n",
    "plt.xlabel('Region')\n",
    "plt.ylabel('Total Sales')\n",
    "plt.xticks(rotation=45)\n",
    "plt.show()\n"
   ]
  },
  {
   "cell_type": "code",
   "execution_count": 79,
   "id": "aa51cddc",
   "metadata": {},
   "outputs": [
    {
     "data": {
      "image/png": "[encoded data removed]",
      "text/plain": [
       "<Figure size 576x576 with 1 Axes>"
      ]
     },
     "metadata": {},
     "output_type": "display_data"
    }
   ],
   "source": [
    "# Pie chart for sales distribution per region\n",
    "plt.figure(figsize=(8, 8))\n",
    "region_sales.set_index('Region')['Total Sales'].plot.pie(autopct='%1.1f%%', cmap='Set3')\n",
    "plt.title('Sales Contribution by Region')\n",
    "plt.ylabel('')  # Hide y-label\n",
    "plt.show()"
   ]
  },
  {
   "cell_type": "code",
   "execution_count": 80,
   "id": "c0a6b636",
   "metadata": {},
   "outputs": [
    {
     "data": {
      "image/png": "[encoded data removed]",
      "text/plain": [
       "<Figure size 720x432 with 1 Axes>"
      ]
     },
     "metadata": {
      "needs_background": "light"
     },
     "output_type": "display_data"
    }
   ],
   "source": [
    "##Relationship Between Discount & Sales\n",
    "plt.figure(figsize=(10, 6))\n",
    "sns.scatterplot(x=Sales_data['Discount'], y=Sales_data['Total Sales'], alpha=0.5)\n",
    "plt.title('Discount vs Total Sales')\n",
    "plt.xlabel('Discount')\n",
    "plt.ylabel('Total Sales')\n",
    "plt.show()"
   ]
  },
  {
   "cell_type": "code",
   "execution_count": 81,
   "id": "68af6f9a",
   "metadata": {},
   "outputs": [],
   "source": [
    "##Feature Engineering\n",
    "Sales_data = pd.get_dummies(Sales_data , columns=['Store', 'Product', 'Region', 'Customer Type'], drop_first=True)\n"
   ]
  },
  {
   "cell_type": "code",
   "execution_count": 82,
   "id": "4a6b52c1",
   "metadata": {},
   "outputs": [],
   "source": [
    "# Convert 'Discount' column to numerical (removing '%')\n",
    "Sales_data['Discount'] = Sales_data['Discount'].str.rstrip('%').astype(float) / 100"
   ]
  },
  {
   "cell_type": "code",
   "execution_count": 83,
   "id": "c0fd44f8",
   "metadata": {},
   "outputs": [],
   "source": [
    "##Define Features (X) and Target (y)\n",
    "X = Sales_data.drop(columns=['Total Sales', 'Date'])  # Features\n",
    "y = Sales_data ['Total Sales']  # Target Variable\n"
   ]
  },
  {
   "cell_type": "code",
   "execution_count": 84,
   "id": "a0edf47d",
   "metadata": {},
   "outputs": [],
   "source": [
    " ##Train-Test Split\n",
    "from sklearn.model_selection import train_test_split\n",
    "\n",
    "X_train, X_test, y_train, y_test = train_test_split(X, y, test_size=0.2, random_state=42)\n",
    "\n",
    "    "
   ]
  },
  {
   "cell_type": "code",
   "execution_count": 85,
   "id": "1e86dcfa",
   "metadata": {},
   "outputs": [
    {
     "name": "stdout",
     "output_type": "stream",
     "text": [
      "MAE: 97.60751667088691\n",
      "MSE: 10781.229539638027\n",
      "R2 Score: 0.9045314852249279\n"
     ]
    }
   ],
   "source": [
    "\n",
    "# Train Model\n",
    "model = LinearRegression()\n",
    "model.fit(X_train, y_train)\n",
    "\n",
    "# Predict\n",
    "y_pred = model.predict(X_test)\n",
    "\n",
    "# Model Evaluation\n",
    "print(\"MAE:\", mean_absolute_error(y_test, y_pred))\n",
    "print(\"MSE:\", mean_squared_error(y_test, y_pred))\n",
    "print(\"R2 Score:\", r2_score(y_test, y_pred))\n"
   ]
  },
  {
   "cell_type": "code",
   "execution_count": 86,
   "id": "31c1f8e6",
   "metadata": {},
   "outputs": [
    {
     "name": "stdout",
     "output_type": "stream",
     "text": [
      "Random Forest R2 Score: 0.6796795572466274\n"
     ]
    }
   ],
   "source": [
    "##Alternative: Using Random Forest Regressor\n",
    "from sklearn.ensemble import RandomForestRegressor\n",
    "\n",
    "rf_model = RandomForestRegressor(n_estimators=100, random_state=42)\n",
    "rf_model.fit(X_train, y_train)\n",
    "\n",
    "y_pred_rf = rf_model.predict(X_test)\n",
    "\n",
    "print(\"Random Forest R2 Score:\", r2_score(y_test, y_pred_rf))\n"
   ]
  },
  {
   "cell_type": "code",
   "execution_count": 87,
   "id": "9c561922",
   "metadata": {},
   "outputs": [],
   "source": [
    "\n",
    "# Convert 'Discount' column to numerical (removing '%' and dividing by 100)\n",
    "Sales_data['Discount'] = Sales_data['Discount'].astype(str).str.rstrip('%').astype(float) / 100"
   ]
  },
  {
   "cell_type": "code",
   "execution_count": 88,
   "id": "dfb3c0b6",
   "metadata": {},
   "outputs": [
    {
     "name": "stdout",
     "output_type": "stream",
     "text": [
      "Index(['Date', 'Quantity Sold', 'Price per Unit', 'Total Sales', 'Discount',\n",
      "       'Store_Store 2', 'Store_Store 3', 'Store_Store 4', 'Product_Product B',\n",
      "       'Product_Product C', 'Region_North', 'Region_South', 'Region_West',\n",
      "       'Customer Type_Regular'],\n",
      "      dtype='object')\n"
     ]
    }
   ],
   "source": [
    "print(Sales_data.columns )"
   ]
  },
  {
   "cell_type": "code",
   "execution_count": 89,
   "id": "f79f4a82",
   "metadata": {},
   "outputs": [
    {
     "name": "stdout",
     "output_type": "stream",
     "text": [
      "Best Hyperparameters:  {'alpha': 1}\n",
      "Mean Squared Error: 3083.558435927682\n",
      "R2 Score: 0.9726948820616573\n"
     ]
    }
   ],
   "source": [
    "# Define feature columns (excluding 'Total Sales')\n",
    "X = Sales_data.drop(columns=['Total Sales', 'Date'])  # Dropping 'Date' since it's not needed\n",
    "y = Sales_data['Total Sales']  # Target variable\n",
    "\n",
    "# Split the data into training and testing sets\n",
    "X_train, X_test, y_train, y_test = train_test_split(X, y, test_size=0.2, random_state=42)\n",
    "\n",
    "# Ensure X_train and y_train are numerical\n",
    "X_train = X_train.astype(float)\n",
    "y_train = y_train.astype(float)\n",
    "\n",
    "# Define the model with a different solver if needed\n",
    "model = Ridge(solver='svd')\n",
    "\n",
    "# Define the parameter grid (alpha is the regularization strength)\n",
    "param_grid = {\n",
    "    'alpha': [0.1, 1, 10, 100, 1000]\n",
    "}\n",
    "\n",
    "# Perform grid search with 5-fold cross-validation\n",
    "grid_search = GridSearchCV(estimator=model, param_grid=param_grid, cv=5, scoring='neg_mean_squared_error')\n",
    "grid_search.fit(X_train, y_train)\n",
    "\n",
    "# Best parameters and model\n",
    "print(\"Best Hyperparameters: \", grid_search.best_params_)\n",
    "best_model = grid_search.best_estimator_\n",
    "\n",
    "# Evaluate the best model\n",
    "y_pred = best_model.predict(X_test)\n",
    "mse = mean_squared_error(y_test, y_pred)\n",
    "r2 = r2_score(y_test, y_pred)\n",
    "\n",
    "print(f'Mean Squared Error: {mse}')\n",
    "print(f'R2 Score: {r2}')\n"
   ]
  },
  {
   "cell_type": "code",
   "execution_count": 90,
   "id": "79f79121",
   "metadata": {},
   "outputs": [],
   "source": [
    "## model performed well with an R² score of 0.9727, \n",
    "## which suggests that about 97.3% of the variance in the total sales can be explained by the model.\n"
   ]
  },
  {
   "cell_type": "code",
   "execution_count": 91,
   "id": "2852868f",
   "metadata": {},
   "outputs": [
    {
     "name": "stdout",
     "output_type": "stream",
     "text": [
      "                  Feature  Coefficient\n",
      "0           Quantity Sold    19.697485\n",
      "1          Price per Unit    21.348252\n",
      "2                Discount    -0.026201\n",
      "3           Store_Store 2    12.097820\n",
      "4           Store_Store 3    -8.987032\n",
      "5           Store_Store 4     9.207697\n",
      "6       Product_Product B     2.455084\n",
      "7       Product_Product C     6.724734\n",
      "8            Region_North   -12.318485\n",
      "9            Region_South    12.097820\n",
      "10            Region_West     9.207697\n",
      "11  Customer Type_Regular     4.205219\n"
     ]
    }
   ],
   "source": [
    "#check the coefficients of the model to interpret how each feature impacts the total sales.\n",
    "\n",
    "# Get the feature names after one-hot encoding\n",
    "feature_names = X.columns\n",
    "\n",
    "# Create a DataFrame to display feature names and their corresponding coefficients\n",
    "coefficients_df = pd.DataFrame({\n",
    "    'Feature': feature_names,\n",
    "    'Coefficient': best_model.coef_\n",
    "})\n",
    "\n",
    "# Print the DataFrame\n",
    "print(coefficients_df)\n"
   ]
  },
  {
   "cell_type": "code",
   "execution_count": 92,
   "id": "d2746270",
   "metadata": {},
   "outputs": [
    {
     "data": {
      "image/png": "[encoded data removed]",
      "text/plain": [
       "<Figure size 432x288 with 1 Axes>"
      ]
     },
     "metadata": {
      "needs_background": "light"
     },
     "output_type": "display_data"
    }
   ],
   "source": [
    "##The differences between predicted and actual values\n",
    "residuals = y_test - y_pred\n",
    "plt.scatter(y_pred, residuals)\n",
    "plt.axhline(y=0, color='r', linestyle='--')\n",
    "plt.xlabel('Predicted Values')\n",
    "plt.ylabel('Residuals')\n",
    "plt.title('Residual Plot')\n",
    "plt.show()\n"
   ]
  }
 ],
 "metadata": {
  "kernelspec": {
   "display_name": "Python 3 (ipykernel)",
   "language": "python",
   "name": "python3"
  },
  "language_info": {
   "codemirror_mode": {
    "name": "ipython",
    "version": 3
   },
   "file_extension": ".py",
   "mimetype": "text/x-python",
   "name": "python",
   "nbconvert_exporter": "python",
   "pygments_lexer": "ipython3",
   "version": "3.9.7"
  }
 },
 "nbformat": 4,
 "nbformat_minor": 5
}
